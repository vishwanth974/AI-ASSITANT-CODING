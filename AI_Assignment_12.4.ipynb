{
  "nbformat": 4,
  "nbformat_minor": 0,
  "metadata": {
    "colab": {
      "provenance": [],
      "authorship_tag": "ABX9TyNVzyHwJ2XmT76ua2H4Nwet",
      "include_colab_link": true
    },
    "kernelspec": {
      "name": "python3",
      "display_name": "Python 3"
    },
    "language_info": {
      "name": "python"
    }
  },
  "cells": [
    {
      "cell_type": "markdown",
      "metadata": {
        "id": "view-in-github",
        "colab_type": "text"
      },
      "source": [
        "<a href=\"https://colab.research.google.com/github/Indra1206/AI-ASSIGNMENTS/blob/main/assignment_12_4.ipynb\" target=\"_parent\"><img src=\"https://colab.research.google.com/assets/colab-badge.svg\" alt=\"Open In Colab\"/></a>"
      ]
    },
    {
      "cell_type": "markdown",
      "source": [
        "**TASK 1:**"
      ],
      "metadata": {
        "id": "hCZ54rPz-YHk"
      }
    },
    {
      "cell_type": "markdown",
      "source": [
        "**generate a python code of bubble sort and generate inline comments explaining key logic to provide time complexity analysis**"
      ],
      "metadata": {
        "id": "e9zLV7Y1-TTF"
      }
    },
    {
      "cell_type": "code",
      "metadata": {
        "colab": {
          "base_uri": "https://localhost:8080/"
        },
        "id": "806033c1",
        "outputId": "4332c9e2-0df8-4f39-de03-671aa712db9d"
      },
      "source": [
        "def bubble_sort(arr):\n",
        "    \"\"\"\n",
        "    Sorts a list of numbers using the bubble sort algorithm.\n",
        "\n",
        "    Args:\n",
        "        arr: The list of numbers to sort.\n",
        "\n",
        "    Returns:\n",
        "        The sorted list.\n",
        "    \"\"\"\n",
        "    n = len(arr)\n",
        "    # Traverse through all array elements\n",
        "    # This outer loop runs 'n' times.\n",
        "    # Time Complexity of outer loop: O(n)\n",
        "    for i in range(n):\n",
        "        # Last i elements are already in place\n",
        "        # The inner loop runs 'n-i-1' times in the worst case for each 'i'.\n",
        "        # Time Complexity of inner loop: O(n)\n",
        "        for j in range(0, n - i - 1):\n",
        "            # traverse the array from 0 to n-i-1\n",
        "            # Swap if the element found is greater than the next element\n",
        "            # This comparison and potential swap takes constant time: O(1)\n",
        "            if arr[j] > arr[j + 1]:\n",
        "                arr[j], arr[j + 1] = arr[j + 1], arr[j]\n",
        "\n",
        "    return arr\n",
        "\n",
        "# Time Complexity Analysis:\n",
        "# The outer loop runs 'n' times.\n",
        "# The inner loop runs at most 'n' times for each iteration of the outer loop.\n",
        "# The comparison and swap operation inside the inner loop takes constant time, O(1).\n",
        "# Therefore, the total time complexity is the product of the complexities of the loops:\n",
        "# O(n) * O(n) * O(1) = O(n^2)\n",
        "# Bubble sort has a worst-case and average-case time complexity of O(n^2).\n",
        "# In the best case (when the array is already sorted), the inner loop can be optimized\n",
        "# to stop early if no swaps are made. However, in the standard implementation shown here,\n",
        "# the best case is still O(n^2).\n",
        "\n",
        "# Space Complexity Analysis:\n",
        "# Bubble sort sorts the array in-place, meaning it does not require any extra space\n",
        "# proportional to the input size. It only uses a few extra variables for looping and swapping.\n",
        "# Therefore, the space complexity is O(1) (constant space).\n",
        "\n",
        "# Example usage:\n",
        "my_list = [64, 34, 25, 12, 22, 11, 90]\n",
        "print(\"Original list:\", my_list)\n",
        "sorted_list = bubble_sort(my_list)\n",
        "print(\"Sorted list:\", sorted_list)"
      ],
      "execution_count": null,
      "outputs": [
        {
          "output_type": "stream",
          "name": "stdout",
          "text": [
            "Original list: [64, 34, 25, 12, 22, 11, 90]\n",
            "Sorted list: [11, 12, 22, 25, 34, 64, 90]\n"
          ]
        }
      ]
    },
    {
      "cell_type": "markdown",
      "source": [
        "**Task 2:**\n",
        "**Compare the performance of Bubble Sort and Insertion Sort on a partially sorted array by measuring their execution time.**"
      ],
      "metadata": {
        "id": "E38tnnffy-Xx"
      }
    },
    {
      "cell_type": "code",
      "metadata": {
        "colab": {
          "base_uri": "https://localhost:8080/"
        },
        "id": "0614b889",
        "outputId": "01a2bf65-3d09-4fd5-b599-a34bf8a00c0f"
      },
      "source": [
        "def insertion_sort(arr):\n",
        "    \"\"\"\n",
        "    Sorts a list of numbers using the insertion sort algorithm.\n",
        "\n",
        "    Args:\n",
        "        arr: The list of numbers to sort.\n",
        "\n",
        "    Returns:\n",
        "        The sorted list.\n",
        "    \"\"\"\n",
        "    # Traverse through 1 to len(arr)\n",
        "    # The outer loop runs 'n-1' times.\n",
        "    # Time Complexity of outer loop: O(n)\n",
        "    for i in range(1, len(arr)):\n",
        "        key = arr[i]\n",
        "        # Move elements of arr[0..i-1], that are greater than key,\n",
        "        # to one position ahead of their current position\n",
        "        # In the worst case (reverse sorted), the inner loop runs 'i' times.\n",
        "        # Time Complexity of inner loop: O(i)\n",
        "        j = i - 1\n",
        "        while j >= 0 and key < arr[j]:\n",
        "            arr[j + 1] = arr[j]\n",
        "            j -= 1\n",
        "        arr[j + 1] = key\n",
        "\n",
        "    return arr\n",
        "\n",
        "# Time Complexity Analysis:\n",
        "# The outer loop runs 'n-1' times.\n",
        "# The inner while loop, in the worst case (reverse sorted array),\n",
        "# runs 'i' times for each iteration of the outer loop.\n",
        "# The comparison and assignment operations inside the inner loop take constant time, O(1).\n",
        "# Therefore, the worst-case time complexity is the sum of work done in the inner loop\n",
        "# for each outer loop iteration: Sum(i=1 to n-1) of O(i) = O(n^2).\n",
        "\n",
        "# However, for partially sorted arrays, the inner while loop runs significantly\n",
        "# fewer times on average because elements are already close to their sorted positions.\n",
        "# In the best case (already sorted array), the inner while loop condition `key < arr[j]`\n",
        "# is always false, and the inner loop runs only once (O(1)) for each outer loop iteration.\n",
        "# So, the best-case time complexity for Insertion Sort is O(n).\n",
        "\n",
        "# Space Complexity Analysis:\n",
        "# Insertion sort sorts the array in-place, similar to Bubble Sort.\n",
        "# It only requires a few extra variables for storing the key and loop indices.\n",
        "# Therefore, the space complexity is O(1) (constant space).\n",
        "\n",
        "# Example usage:\n",
        "my_list = [64, 34, 25, 12, 22, 11, 90]\n",
        "print(\"Original list:\", my_list)\n",
        "sorted_list = insertion_sort(my_list)\n",
        "print(\"Sorted list:\", sorted_list)\n",
        "\n",
        "# Example with a partially sorted list:\n",
        "partially_sorted_list = [1, 2, 5, 4, 3, 6, 7]\n",
        "print(\"\\nPartially sorted list:\", partially_sorted_list)\n",
        "sorted_partially_list = insertion_sort(partially_sorted_list)\n",
        "print(\"Sorted partially sorted list:\", sorted_partially_list)"
      ],
      "execution_count": 1,
      "outputs": [
        {
          "output_type": "stream",
          "name": "stdout",
          "text": [
            "Original list: [64, 34, 25, 12, 22, 11, 90]\n",
            "Sorted list: [11, 12, 22, 25, 34, 64, 90]\n",
            "\n",
            "Partially sorted list: [1, 2, 5, 4, 3, 6, 7]\n",
            "Sorted partially sorted list: [1, 2, 3, 4, 5, 6, 7]\n"
          ]
        }
      ]
    },
    {
      "cell_type": "markdown",
      "source": [
        "**task3:**\n",
        "\n",
        "**Test Linear and Binary Search on sorted and unsorted data, comparing execution times**\n"
      ],
      "metadata": {
        "id": "P7Dyr-QI2FtT"
      }
    },
    {
      "cell_type": "markdown",
      "metadata": {
        "id": "d2217009"
      },
      "source": [
        "### Implement Linear Search"
      ]
    },
    {
      "cell_type": "code",
      "metadata": {
        "colab": {
          "base_uri": "https://localhost:8080/"
        },
        "id": "67a77d0f",
        "outputId": "466b1936-be59-4eec-8918-b8d0431a8fb5"
      },
      "source": [
        "def linear_search(arr, target):\n",
        "    \"\"\"\n",
        "    Performs a linear search to find the index of a target value in a list.\n",
        "\n",
        "    Args:\n",
        "        arr: The list to search within.\n",
        "        target: The value to search for.\n",
        "\n",
        "    Returns:\n",
        "        The index of the target value if found, otherwise -1.\n",
        "    \"\"\"\n",
        "    # Linear search checks each element in the list one by one.\n",
        "    # In the worst case, it has to check every element.\n",
        "    # Time Complexity: O(n) - where n is the number of elements in the list.\n",
        "    # Space Complexity: O(1) - constant extra space is used.\n",
        "    for i in range(len(arr)):\n",
        "        if arr[i] == target:\n",
        "            return i\n",
        "    return -1\n",
        "\n",
        "# Example usage:\n",
        "my_list = [10, 25, 33, 48, 59, 61, 75, 88, 92]\n",
        "target_value = 59\n",
        "index = linear_search(my_list, target_value)\n",
        "\n",
        "if index != -1:\n",
        "    print(f\"Target value {target_value} found at index: {index}\")\n",
        "else:\n",
        "    print(f\"Target value {target_value} not found in the list.\")\n",
        "\n",
        "target_value = 100\n",
        "index = linear_search(my_list, target_value)\n",
        "\n",
        "if index != -1:\n",
        "    print(f\"Target value {target_value} found at index: {index}\")\n",
        "else:\n",
        "    print(f\"Target value {target_value} not found in the list.\")"
      ],
      "execution_count": 2,
      "outputs": [
        {
          "output_type": "stream",
          "name": "stdout",
          "text": [
            "Target value 59 found at index: 4\n",
            "Target value 100 not found in the list.\n"
          ]
        }
      ]
    },
    {
      "cell_type": "markdown",
      "source": [
        "**task 4**\n",
        "\n",
        "**compare Quick Sort and Merge Sort performance on random, sorted, and reverse-sorted data**"
      ],
      "metadata": {
        "id": "KYvwXip-2e9f"
      }
    },
    {
      "cell_type": "markdown",
      "metadata": {
        "id": "dfb5cef3"
      },
      "source": [
        "### Implement Quick Sort (Recursive)"
      ]
    },
    {
      "cell_type": "code",
      "metadata": {
        "id": "6258b2ca"
      },
      "source": [
        "def quick_sort(arr):\n",
        "    \"\"\"\n",
        "    Sorts a list of numbers using the recursive Quick Sort algorithm.\n",
        "\n",
        "    Args:\n",
        "        arr: The list of numbers to sort.\n",
        "\n",
        "    Returns:\n",
        "        The sorted list.\n",
        "    \"\"\"\n",
        "    # Quick Sort is a divide-and-conquer algorithm.\n",
        "    # It picks an element as a pivot and partitions the given array around the picked pivot.\n",
        "    # The best and average case time complexity is O(n log n).\n",
        "    # The worst-case time complexity is O(n^2) if the pivot selection is poor.\n",
        "    # Space Complexity: O(log n) on average due to recursive calls, O(n) in the worst case.\n",
        "\n",
        "    # Base case: if the array has 0 or 1 element, it's already sorted\n",
        "    if len(arr) <= 1:\n",
        "        return arr\n",
        "\n",
        "    # Recursive step:\n",
        "    # 1. Pick a pivot (here, we choose the last element)\n",
        "    pivot = arr[-1]\n",
        "    # 2. Partition the array into three sub-arrays:\n",
        "    #    - elements less than the pivot\n",
        "    #    - elements equal to the pivot\n",
        "    #    - elements greater than the pivot\n",
        "    less = []\n",
        "    equal = []\n",
        "    greater = []\n",
        "\n",
        "    for x in arr:\n",
        "        if x < pivot:\n",
        "            less.append(x)\n",
        "        elif x == pivot:\n",
        "            equal.append(x)\n",
        "        else:\n",
        "            greater.append(x)\n",
        "\n",
        "    # 3. Recursively sort the 'less' and 'greater' sub-arrays\n",
        "    # 4. Combine the sorted 'less' sub-array, the 'equal' elements, and the sorted 'greater' sub-array\n",
        "\n",
        "    # TODO: Complete the recursive calls and combine the results\n",
        "\n",
        "    # Placeholder return (remove this after completing)\n",
        "    return quick_sort(less) + equal + quick_sort(greater)\n",
        "\n",
        "# Example Usage (remove this after completing)\n",
        "# my_list = [10, 7, 8, 9, 1, 5]\n",
        "# sorted_list = quick_sort(my_list)\n",
        "# print(\"Original list:\", my_list) # Note: The original list is not modified in this recursive implementation\n",
        "# print(\"Sorted list:\", sorted_list)"
      ],
      "execution_count": 1,
      "outputs": []
    },
    {
      "cell_type": "markdown",
      "metadata": {
        "id": "fdbba392"
      },
      "source": [
        "**Why Insertion Sort is more efficient for partially sorted data:**\n",
        "\n",
        "Insertion Sort works by building the final sorted array one item at a time. It iterates through the input array, taking one element at a time and inserting it into its correct position within the sorted portion of the array.\n",
        "\n",
        "- **Adaptive Nature:** Insertion Sort is \"adaptive,\" meaning its performance improves significantly when the input array is partially or nearly sorted. When an element is already in its correct position or close to it, the inner `while` loop in Insertion Sort performs very few comparisons and shifts, leading to a near O(n) performance for almost sorted data.\n",
        "\n",
        "- **Fewer Swaps/Shifts:** Compared to Bubble Sort, which repeatedly swaps adjacent elements even if they are far from their final positions, Insertion Sort only shifts elements to make space for the current element being inserted. In a partially sorted array, these shifts are minimal.\n",
        "\n",
        "- **In-place Sorting:** Like Bubble Sort, Insertion Sort is an in-place sorting algorithm, requiring only a constant amount of extra space (O(1)).\n",
        "\n",
        "In summary, while both Bubble Sort and Insertion Sort have a worst-case time complexity of O(n^2), Insertion Sort's adaptive nature makes it a much better choice for sorting arrays that are already partially sorted, as it can approach O(n) performance in the best and near-best cases."
      ]
    },
    {
      "cell_type": "markdown",
      "source": [
        "**task 5:**\n",
        "\n",
        "**Optimize the brute-force duplicate finder using sets or dictionaries for better performance**"
      ],
      "metadata": {
        "id": "D9FiLLHy24iy"
      }
    },
    {
      "cell_type": "markdown",
      "metadata": {
        "id": "a249beef"
      },
      "source": [
        "### Implement Brute-Force Duplicate Finder"
      ]
    },
    {
      "cell_type": "code",
      "metadata": {
        "colab": {
          "base_uri": "https://localhost:8080/"
        },
        "id": "15060649",
        "outputId": "c75ece17-2fa9-43ee-b5d0-b78bd25b4a21"
      },
      "source": [
        "def find_duplicates_brute_force(arr):\n",
        "    \"\"\"\n",
        "    Finds duplicate elements in a list using a brute-force approach.\n",
        "\n",
        "    Args:\n",
        "        arr: The list to search for duplicates.\n",
        "\n",
        "    Returns:\n",
        "        A list of unique duplicate elements found in the input list.\n",
        "    \"\"\"\n",
        "    # This brute-force approach compares each element with every other element\n",
        "    # to find duplicates.\n",
        "    # Time Complexity: O(n^2) - because of the nested loops, where n is the\n",
        "    # number of elements in the list. For each element, we iterate through\n",
        "    # the rest of the list.\n",
        "    # Space Complexity: O(k) - where k is the number of unique duplicate elements.\n",
        "    # In the worst case, all elements could be duplicates, leading to O(n) space.\n",
        "\n",
        "    duplicates = []\n",
        "    n = len(arr)\n",
        "\n",
        "    for i in range(n):\n",
        "        # Start the inner loop from i + 1 to avoid comparing an element with itself\n",
        "        # and to avoid adding the same duplicate multiple times if it appears more than twice.\n",
        "        for j in range(i + 1, n):\n",
        "            if arr[i] == arr[j] and arr[i] not in duplicates:\n",
        "                duplicates.append(arr[i])\n",
        "\n",
        "    return duplicates\n",
        "\n",
        "# Example usage:\n",
        "my_list = [1, 2, 3, 4, 2, 5, 6, 3, 7, 8, 8, 1]\n",
        "duplicate_elements = find_duplicates_brute_force(my_list)\n",
        "print(\"Original list:\", my_list)\n",
        "print(\"Duplicate elements (brute force):\", duplicate_elements)\n",
        "\n",
        "my_list_no_duplicates = [1, 2, 3, 4, 5]\n",
        "duplicate_elements_no_duplicates = find_duplicates_brute_force(my_list_no_duplicates)\n",
        "print(\"\\nOriginal list:\", my_list_no_duplicates)\n",
        "print(\"Duplicate elements (brute force):\", duplicate_elements_no_duplicates)"
      ],
      "execution_count": 2,
      "outputs": [
        {
          "output_type": "stream",
          "name": "stdout",
          "text": [
            "Original list: [1, 2, 3, 4, 2, 5, 6, 3, 7, 8, 8, 1]\n",
            "Duplicate elements (brute force): [1, 2, 3, 8]\n",
            "\n",
            "Original list: [1, 2, 3, 4, 5]\n",
            "Duplicate elements (brute force): []\n"
          ]
        }
      ]
    }
  ]
}